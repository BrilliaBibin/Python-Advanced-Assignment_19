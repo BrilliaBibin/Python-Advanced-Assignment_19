{
  "nbformat": 4,
  "nbformat_minor": 0,
  "metadata": {
    "colab": {
      "provenance": []
    },
    "kernelspec": {
      "name": "python3",
      "display_name": "Python 3"
    },
    "language_info": {
      "name": "python"
    }
  },
  "cells": [
    {
      "cell_type": "markdown",
      "source": [
        "Q1. Define the relationship between a class and its instances. Is it a one-to-one or a one-to-many partnership, for example?\n",
        "\n",
        " Class is abstraction of an real world entity. It consists of\n",
        "attributes and methods. Instance is an object of a class. It one to many relationship between class and its instatnces."
      ],
      "metadata": {
        "id": "QwyQNWYJVx2L"
      }
    },
    {
      "cell_type": "markdown",
      "source": [
        "Q2. What kind of data is held only in an instance?\n",
        "\n",
        "  Instance objects contains the Instance variables which are specific\n",
        "to that specific Instance object.\n"
      ],
      "metadata": {
        "id": "dGoMqaHgXBtS"
      }
    },
    {
      "cell_type": "markdown",
      "source": [
        "Q3. What kind of knowledge is stored in a class?\n",
        "\n",
        "  Class creates a user-defined data structure, which holds its own data\n",
        "members and member functions,which can be accessed and used by creating an instance of that class. A class is like a blueprint for an object."
      ],
      "metadata": {
        "id": "VRgeqD3sXQSj"
      }
    },
    {
      "cell_type": "markdown",
      "source": [
        "Q4. What exactly is a method, and how is it different from a regular function?\n",
        "\n",
        "   The methods with a class can be used to access the insatnce\n",
        "variables of its instance. So, the object's state can be modified by its method.Function cant access the attributes of an instance of a class or can't modify the state of the object."
      ],
      "metadata": {
        "id": "apngpjdEXePK"
      }
    },
    {
      "cell_type": "markdown",
      "source": [
        "Q5. Is inheritance supported in Python, and if so, what is the syntax?\n",
        "\n",
        "  Yes,Inheritance is supported by python"
      ],
      "metadata": {
        "id": "Dy0vDUMGX10F"
      }
    },
    {
      "cell_type": "code",
      "source": [
        "# Example of Inheritance:\n",
        "class A:\n",
        "  var=1\n",
        "  def __init__(self):\n",
        "    pass\n",
        "class B(A): # class B is detived from class A\n",
        "  def __init__(self):\n",
        "    super().__init__()\n",
        "c=B()\n",
        "print(\"Class of Instance:\",c.__class__)\n",
        "print(\"Base class:\",c.__class__.__bases__)"
      ],
      "metadata": {
        "colab": {
          "base_uri": "https://localhost:8080/"
        },
        "id": "ggMcLkFyYJQu",
        "outputId": "4f9e4209-ee4f-4bbf-efb1-9010f9bcc03c"
      },
      "execution_count": 1,
      "outputs": [
        {
          "output_type": "stream",
          "name": "stdout",
          "text": [
            "Class of Instance: <class '__main__.B'>\n",
            "Base class: (<class '__main__.A'>,)\n"
          ]
        }
      ]
    },
    {
      "cell_type": "markdown",
      "source": [
        "Q6. How much encapsulation (making instance or class variables private)\n",
        "does Python support?\n",
        "\n",
        "   Encapsulation prevents from accessing accidentally, but not\n",
        "intentionally. The private attributes and methods are not really hidden. The private attributes can be accessed within the object method."
      ],
      "metadata": {
        "id": "ZZaoWUbyYiQa"
      }
    },
    {
      "cell_type": "markdown",
      "source": [
        "Q7. How do you distinguish between a class variable and an instance variable?\n",
        "\n",
        "  The class attribute is available to all the instance objects of that\n",
        "class. Instance variable is accessible only to the object or Instance of that class."
      ],
      "metadata": {
        "id": "LONeZtM9YuMP"
      }
    },
    {
      "cell_type": "markdown",
      "source": [
        "Q8. When, if ever, can self be included in a class's method definitions?\n",
        "\n",
        "  self can included to access the class variables and instance\n",
        "variiables."
      ],
      "metadata": {
        "id": "20GJMFV_ZAlr"
      }
    },
    {
      "cell_type": "markdown",
      "source": [
        "Q9. What is the difference between the _ _add_ _ and the _ _radd_ _ methods?\n",
        "\n",
        "To calculate the + operation on two custom objects x and y:\n",
        "\n",
        "eg.print(x + y)\n",
        "\n",
        "Python first tries to call the left object’s __add__() method x.__add__(y). But this may fail for two reasons:\n",
        "\n",
        "The method x.__add__() is not implemented in the first place, or\n",
        "The method x.__add__() is implemented but returns a NotImplemented value indicating that the data types are incompatible.\n",
        "If this fails, Python tries to fix it by calling the y.__radd__() for reverse addition on the right operand y.\n",
        "\n",
        "If the reverse addition method is implemented, Python knows that it doesn’t run into a potential problem of a non-commutative operation. If it would just execute y.__add__(x) instead of x.__add__(y), the result would be wrong because the operation may be non-commutative when defined as a custom operation. That’s why y.__radd__(x) is needed.\n",
        "\n",
        "So, the difference between x.__add__(y) and x.__radd__(y) is that the former calculates x + y whereas the latter calculates y + x — both calling the respective method defined on the object x.\n",
        "\n"
      ],
      "metadata": {
        "id": "NKOqpeWmZP59"
      }
    },
    {
      "cell_type": "code",
      "source": [
        "class Data_1:\n",
        "    pass\n",
        "\n",
        "class Data_2:\n",
        "    def __radd__(self, other):\n",
        "        return 'called reverse +'\n",
        "\n",
        "\n",
        "x = Data_1()\n",
        "y = Data_2()\n",
        "\n",
        "print(x + y)\n",
        "# called reverse +"
      ],
      "metadata": {
        "colab": {
          "base_uri": "https://localhost:8080/"
        },
        "id": "EITsCP5okmFk",
        "outputId": "073f3ffa-ab01-4473-fee5-ded58d2d5934"
      },
      "execution_count": 2,
      "outputs": [
        {
          "output_type": "stream",
          "name": "stdout",
          "text": [
            "called reverse +\n"
          ]
        }
      ]
    },
    {
      "cell_type": "markdown",
      "source": [
        "Q10. When is it necessary to use a reflection method? When do you not need it, even though you support the operation in question?\n",
        "\n",
        "  Reflection refers to the ability for code to be able to examine\n",
        "attributes about objects that might be passed as parameters to a function. For example, if we write type(obj) then Python will return an object which represents the type of obj.\n",
        "\n",
        "Using reflection, we can write one recursive reverse function that will work for strings, lists, and any other sequence that supports slicing and concatenation. If an obj is a reference to a string, then Python will return the str type object. Further, if we write str() we get a string which is the empty string. In other words, writing str() is the same thing as writing “”. Likewise, writing list() is the same thing as writing []."
      ],
      "metadata": {
        "id": "DpVRPMOrk60u"
      }
    },
    {
      "cell_type": "code",
      "source": [
        "def reverse(sequence):\n",
        "    sequence_type = type(sequence)\n",
        "    empty_sequence = sequence_type()\n",
        "\n",
        "    if sequence == empty_sequence:\n",
        "        return empty_sequence\n",
        "\n",
        "    rest = reverse(sequence[1:])\n",
        "    first_sequence = sequence[0:1]\n",
        "\n",
        "    # Combine the result\n",
        "    final_result = rest + first_sequence\n",
        "\n",
        "    return final_result\n",
        "\n",
        "# Driver code\n",
        "print(reverse([10, 20, 30, 40]))\n",
        "print(reverse(\"happy birthday\"))"
      ],
      "metadata": {
        "colab": {
          "base_uri": "https://localhost:8080/"
        },
        "id": "2yxps2E3n3Xb",
        "outputId": "cbd99af2-ca8d-4196-c1f5-7a41cd36551b"
      },
      "execution_count": 3,
      "outputs": [
        {
          "output_type": "stream",
          "name": "stdout",
          "text": [
            "[40, 30, 20, 10]\n",
            "yadhtrib yppah\n"
          ]
        }
      ]
    },
    {
      "cell_type": "markdown",
      "source": [
        "Q11. What is the _ _iadd_ _ method called?\n",
        "\n",
        "  The Python __iadd__() method implements in-place addition x +=y\n",
        "that adds together the operands and assigns the result to the left operand. This operation is also called augmented arithmetic assignment. The method simply returns the new value to be assigned to the first operand."
      ],
      "metadata": {
        "id": "OXEBT8GHoJso"
      }
    },
    {
      "cell_type": "code",
      "source": [
        "class Data:\n",
        "    def __iadd__(self, other):\n",
        "        return 'finxter 42'\n",
        "x = Data()\n",
        "y = Data()\n",
        "x += y\n",
        "print(x)"
      ],
      "metadata": {
        "colab": {
          "base_uri": "https://localhost:8080/"
        },
        "id": "XaSpo2Hipw-b",
        "outputId": "018bfec3-8177-447c-a85e-3194545e0662"
      },
      "execution_count": 4,
      "outputs": [
        {
          "output_type": "stream",
          "name": "stdout",
          "text": [
            "finxter 42\n"
          ]
        }
      ]
    },
    {
      "cell_type": "markdown",
      "source": [
        "Q12. Is the _ _init_ _ method inherited by subclasses? What do you do if you need to customize its behavior within a subclass?\n",
        "\n",
        " __init__ method is inherited by its subclass. But it can be overloaded, to customize it"
      ],
      "metadata": {
        "id": "3VK0-W3Fpxan"
      }
    },
    {
      "cell_type": "code",
      "source": [
        "class A:\n",
        "    def __init__(self,x):\n",
        "        self.x=x\n",
        "class B(A):\n",
        "    pass\n",
        "obj=B(2)\n",
        "obj.x\n",
        "#        here the value x is accessible to instance of class B which is subclass of class A.This means\n",
        "#        __init__ of class A is inherited in sub class B\n",
        "class C(A):\n",
        "    def __init__(self,x,y): # Here we are overloading the __init__ inherited from class A\n",
        "        self.x=x\n",
        "        self.y=y\n",
        "    def func(self):\n",
        "        return(self.x + self.y)\n",
        "obj1=C(3,4)\n",
        "obj1.func()"
      ],
      "metadata": {
        "colab": {
          "base_uri": "https://localhost:8080/"
        },
        "id": "fSnSZANisK5G",
        "outputId": "9e5361a6-e204-4fb4-c778-951af4b5793c"
      },
      "execution_count": 5,
      "outputs": [
        {
          "output_type": "execute_result",
          "data": {
            "text/plain": [
              "7"
            ]
          },
          "metadata": {},
          "execution_count": 5
        }
      ]
    }
  ]
}